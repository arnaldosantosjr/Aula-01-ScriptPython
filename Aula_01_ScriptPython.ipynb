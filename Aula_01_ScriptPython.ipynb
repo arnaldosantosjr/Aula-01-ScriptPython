{
  "nbformat": 4,
  "nbformat_minor": 0,
  "metadata": {
    "colab": {
      "provenance": [],
      "authorship_tag": "ABX9TyM3wBc/zRzbXsnYvGfQfFGI",
      "include_colab_link": true
    },
    "kernelspec": {
      "name": "python3",
      "display_name": "Python 3"
    },
    "language_info": {
      "name": "python"
    }
  },
  "cells": [
    {
      "cell_type": "markdown",
      "metadata": {
        "id": "view-in-github",
        "colab_type": "text"
      },
      "source": [
        "<a href=\"https://colab.research.google.com/github/arnaldosantosjr/Aula-01-ScriptPython/blob/main/Aula_01_ScriptPython.ipynb\" target=\"_parent\"><img src=\"https://colab.research.google.com/assets/colab-badge.svg\" alt=\"Open In Colab\"/></a>"
      ]
    },
    {
      "cell_type": "markdown",
      "source": [
        "# 1 - Sintaxe Básica\n",
        "\n",
        "Podemos utilizar ' ' (aspas simples)\n",
        "\n",
        "Podemos utilizar \" \" (aspas duplas)\n",
        "\n",
        "Utilizando o \\n para pular uma linha na impressão do valor\n",
        "\n",
        "Usamos o hashtag # para comentar algo"
      ],
      "metadata": {
        "id": "nPy-CKyfBH5S"
      }
    },
    {
      "cell_type": "code",
      "execution_count": null,
      "metadata": {
        "id": "TJxHQ2YJ4Q5s"
      },
      "outputs": [],
      "source": [
        "print('O \"print\" exibe o valor na tela\\n')\n",
        "print('Podeois usar as \"aspas duplas\" dentro do print\\n')\n",
        "print(\"Ou podemos usar as 'aspas simples'\\n\")"
      ]
    },
    {
      "cell_type": "markdown",
      "source": [
        "- Usamos o # ou '''  ''' para fazer um comentário."
      ],
      "metadata": {
        "id": "wEkz66kBjuod"
      }
    },
    {
      "cell_type": "code",
      "source": [
        "#Comentário símples"
      ],
      "metadata": {
        "id": "6F1c4a3kj_DF"
      },
      "execution_count": null,
      "outputs": []
    },
    {
      "cell_type": "code",
      "source": [
        "'''\n",
        "Comnetário\n",
        "de\n",
        "várias\n",
        "linhas\n",
        "'''"
      ],
      "metadata": {
        "id": "EpzEdbV8kEqQ"
      },
      "execution_count": null,
      "outputs": []
    },
    {
      "cell_type": "markdown",
      "source": [
        "- Usamos o \"\\n\" dentro do prit para pular linhas"
      ],
      "metadata": {
        "id": "WQk_hgMdkR6U"
      }
    },
    {
      "cell_type": "code",
      "source": [
        "print('Olá!\\nComo vocês estão?')"
      ],
      "metadata": {
        "id": "KZPP0WA9kdlF"
      },
      "execution_count": null,
      "outputs": []
    },
    {
      "cell_type": "markdown",
      "source": [
        "# 2 - Operadores matemáticos\n",
        "Os peradores são usados para realizar operações em variáveis e valores.\n",
        "\n",
        "\n",
        "\n",
        "1. Soma\n",
        "2. Subtração\n",
        "3. Muktiplicação\n",
        "4. Divisão\n",
        "5. Exponenciação\n",
        "6. Resto da divisão\n",
        "7. Divisão de chão\n",
        "\n",
        "\n",
        "\n"
      ],
      "metadata": {
        "id": "QexqFp5Ykt7Q"
      }
    },
    {
      "cell_type": "markdown",
      "source": [
        "_1.  Soma_"
      ],
      "metadata": {
        "id": "NrTO3QpTnVbM"
      }
    },
    {
      "cell_type": "code",
      "source": [
        "3 + 4"
      ],
      "metadata": {
        "collapsed": true,
        "id": "zXvPK9e7nR2i"
      },
      "execution_count": null,
      "outputs": []
    },
    {
      "cell_type": "markdown",
      "source": [
        "_2. Subtração_"
      ],
      "metadata": {
        "id": "N_Rup1THoBcA"
      }
    },
    {
      "cell_type": "code",
      "source": [
        "4 - 3"
      ],
      "metadata": {
        "id": "cNJNXU6foALc"
      },
      "execution_count": null,
      "outputs": []
    },
    {
      "cell_type": "markdown",
      "source": [
        "_3. Multiplicação_"
      ],
      "metadata": {
        "id": "vnwh771NoKT6"
      }
    },
    {
      "cell_type": "code",
      "source": [
        "4 * 3"
      ],
      "metadata": {
        "id": "T65zWG7QoT0s"
      },
      "execution_count": null,
      "outputs": []
    },
    {
      "cell_type": "markdown",
      "source": [
        "_4. Divisão_"
      ],
      "metadata": {
        "id": "uHHSWPEjodTD"
      }
    },
    {
      "cell_type": "code",
      "source": [
        "4 / 4"
      ],
      "metadata": {
        "id": "CM0ttlfqolCo"
      },
      "execution_count": null,
      "outputs": []
    },
    {
      "cell_type": "markdown",
      "source": [
        "_5. Exponencição_"
      ],
      "metadata": {
        "id": "WgwP9J4coqkR"
      }
    },
    {
      "cell_type": "code",
      "source": [
        "4 ** 3"
      ],
      "metadata": {
        "id": "hhoJMcHno4hE"
      },
      "execution_count": null,
      "outputs": []
    },
    {
      "cell_type": "markdown",
      "source": [
        "_6. Resto da divisão_"
      ],
      "metadata": {
        "id": "QiOIkz2xpBAj"
      }
    },
    {
      "cell_type": "code",
      "source": [
        "4 % 3"
      ],
      "metadata": {
        "id": "qjR6N0x1qYu1"
      },
      "execution_count": null,
      "outputs": []
    },
    {
      "cell_type": "markdown",
      "source": [
        "_7. Divisãode chão_"
      ],
      "metadata": {
        "id": "Gyw141TurJCy"
      }
    },
    {
      "cell_type": "code",
      "source": [
        "3 // 4"
      ],
      "metadata": {
        "id": "daJKsAFArgE5"
      },
      "execution_count": null,
      "outputs": []
    },
    {
      "cell_type": "markdown",
      "source": [
        "- ##  Ordem de precedência\n",
        "    Parênteses\n",
        "Expoentes - > Multiplicação e divisão (da esquerda para a direita) - >  Adição e subtração (da esquerda para a direita)"
      ],
      "metadata": {
        "id": "_JeEqOQ7ruDJ"
      }
    },
    {
      "cell_type": "code",
      "source": [
        "6 + 5 /(4 - 3)**2"
      ],
      "metadata": {
        "colab": {
          "base_uri": "https://localhost:8080/"
        },
        "id": "jSlfcu6isoRA",
        "outputId": "ff70add8-4463-44f4-9307-bf688e1a859c"
      },
      "execution_count": 8,
      "outputs": [
        {
          "output_type": "execute_result",
          "data": {
            "text/plain": [
              "11.0"
            ]
          },
          "metadata": {},
          "execution_count": 8
        }
      ]
    },
    {
      "cell_type": "code",
      "source": [],
      "metadata": {
        "id": "RcdXYP2-rq4g"
      },
      "execution_count": null,
      "outputs": []
    },
    {
      "cell_type": "code",
      "source": [
        "6 + 5 /4 * (- 3) **2"
      ],
      "metadata": {
        "colab": {
          "base_uri": "https://localhost:8080/"
        },
        "outputId": "efd539a9-d6a1-4568-c7f7-4adadfc7f9e8",
        "id": "1YWKwRs3tKu7"
      },
      "execution_count": 11,
      "outputs": [
        {
          "output_type": "execute_result",
          "data": {
            "text/plain": [
              "17.25"
            ]
          },
          "metadata": {},
          "execution_count": 11
        }
      ]
    }
  ]
}