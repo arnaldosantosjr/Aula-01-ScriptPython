{
  "cells": [
    {
      "cell_type": "markdown",
      "metadata": {
        "colab_type": "text",
        "id": "view-in-github"
      },
      "source": [
        "<a href=\"https://colab.research.google.com/github/arnaldosantosjr/Aula-01-ScriptPython/blob/main/Aula_01_ScriptPython.ipynb\" target=\"_parent\"><img src=\"https://colab.research.google.com/assets/colab-badge.svg\" alt=\"Open In Colab\"/></a>"
      ]
    },
    {
      "cell_type": "markdown",
      "metadata": {
        "id": "nPy-CKyfBH5S"
      },
      "source": [
        "# 1 - Sintaxe Básica\n",
        "\n",
        "Podemos utilizar ' ' (aspas simples)\n",
        "\n",
        "Podemos utilizar \" \" (aspas duplas)\n",
        "\n",
        "Utilizando o \\n para pular uma linha na impressão do valor\n",
        "\n",
        "Usamos o hashtag # para comentar algo"
      ]
    },
    {
      "cell_type": "code",
      "execution_count": 1,
      "metadata": {
        "id": "TJxHQ2YJ4Q5s"
      },
      "outputs": [
        {
          "name": "stdout",
          "output_type": "stream",
          "text": [
            "O \"print\" exibe o valor na tela\n",
            "\n",
            "Podeois usar as \"aspas duplas\" dentro do print\n",
            "\n",
            "Ou podemos usar as 'aspas simples'\n",
            "\n"
          ]
        }
      ],
      "source": [
        "print('O \"print\" exibe o valor na tela\\n')\n",
        "print('Podeois usar as \"aspas duplas\" dentro do print\\n')\n",
        "print(\"Ou podemos usar as 'aspas simples'\\n\")"
      ]
    },
    {
      "cell_type": "markdown",
      "metadata": {
        "id": "wEkz66kBjuod"
      },
      "source": [
        "- Usamos o # ou '''  ''' para fazer um comentário."
      ]
    },
    {
      "cell_type": "code",
      "execution_count": 2,
      "metadata": {
        "id": "6F1c4a3kj_DF"
      },
      "outputs": [],
      "source": [
        "#Comentário símples"
      ]
    },
    {
      "cell_type": "code",
      "execution_count": 3,
      "metadata": {
        "id": "EpzEdbV8kEqQ"
      },
      "outputs": [
        {
          "data": {
            "text/plain": [
              "'\\nComnetário\\nde\\nvárias\\nlinhas\\n'"
            ]
          },
          "execution_count": 3,
          "metadata": {},
          "output_type": "execute_result"
        }
      ],
      "source": [
        "'''\n",
        "Comnetário\n",
        "de\n",
        "várias\n",
        "linhas\n",
        "'''"
      ]
    },
    {
      "cell_type": "markdown",
      "metadata": {
        "id": "WQk_hgMdkR6U"
      },
      "source": [
        "- Usamos o \"\\n\" dentro do prit para pular linhas"
      ]
    },
    {
      "cell_type": "code",
      "execution_count": 4,
      "metadata": {
        "id": "KZPP0WA9kdlF"
      },
      "outputs": [
        {
          "name": "stdout",
          "output_type": "stream",
          "text": [
            "Olá!\n",
            "Como vocês estão?\n"
          ]
        }
      ],
      "source": [
        "print('Olá!\\nComo vocês estão?')"
      ]
    },
    {
      "cell_type": "markdown",
      "metadata": {
        "id": "QexqFp5Ykt7Q"
      },
      "source": [
        "# 2 - Operadores matemáticos\n",
        "Os peradores são usados para realizar operações em variáveis e valores.\n",
        "\n",
        "\n",
        "\n",
        "1. Soma\n",
        "2. Subtração\n",
        "3. Muktiplicação\n",
        "4. Divisão\n",
        "5. Exponenciação\n",
        "6. Resto da divisão\n",
        "7. Divisão de chão\n",
        "\n",
        "\n",
        "\n"
      ]
    },
    {
      "cell_type": "markdown",
      "metadata": {
        "id": "NrTO3QpTnVbM"
      },
      "source": [
        "_1.  Soma_"
      ]
    },
    {
      "cell_type": "code",
      "execution_count": 5,
      "metadata": {
        "collapsed": true,
        "id": "zXvPK9e7nR2i"
      },
      "outputs": [
        {
          "data": {
            "text/plain": [
              "7"
            ]
          },
          "execution_count": 5,
          "metadata": {},
          "output_type": "execute_result"
        }
      ],
      "source": [
        "3 + 4"
      ]
    },
    {
      "cell_type": "markdown",
      "metadata": {
        "id": "N_Rup1THoBcA"
      },
      "source": [
        "_2. Subtração_"
      ]
    },
    {
      "cell_type": "code",
      "execution_count": 6,
      "metadata": {
        "id": "cNJNXU6foALc"
      },
      "outputs": [
        {
          "data": {
            "text/plain": [
              "1"
            ]
          },
          "execution_count": 6,
          "metadata": {},
          "output_type": "execute_result"
        }
      ],
      "source": [
        "4 - 3"
      ]
    },
    {
      "cell_type": "markdown",
      "metadata": {
        "id": "vnwh771NoKT6"
      },
      "source": [
        "_3. Multiplicação_"
      ]
    },
    {
      "cell_type": "code",
      "execution_count": 7,
      "metadata": {
        "id": "T65zWG7QoT0s"
      },
      "outputs": [
        {
          "data": {
            "text/plain": [
              "12"
            ]
          },
          "execution_count": 7,
          "metadata": {},
          "output_type": "execute_result"
        }
      ],
      "source": [
        "4 * 3"
      ]
    },
    {
      "cell_type": "markdown",
      "metadata": {
        "id": "uHHSWPEjodTD"
      },
      "source": [
        "_4. Divisão_"
      ]
    },
    {
      "cell_type": "code",
      "execution_count": 8,
      "metadata": {
        "id": "CM0ttlfqolCo"
      },
      "outputs": [
        {
          "data": {
            "text/plain": [
              "1.0"
            ]
          },
          "execution_count": 8,
          "metadata": {},
          "output_type": "execute_result"
        }
      ],
      "source": [
        "4 / 4"
      ]
    },
    {
      "cell_type": "markdown",
      "metadata": {
        "id": "WgwP9J4coqkR"
      },
      "source": [
        "_5. Exponencição_"
      ]
    },
    {
      "cell_type": "code",
      "execution_count": 9,
      "metadata": {
        "id": "hhoJMcHno4hE"
      },
      "outputs": [
        {
          "data": {
            "text/plain": [
              "64"
            ]
          },
          "execution_count": 9,
          "metadata": {},
          "output_type": "execute_result"
        }
      ],
      "source": [
        "4 ** 3"
      ]
    },
    {
      "cell_type": "markdown",
      "metadata": {
        "id": "QiOIkz2xpBAj"
      },
      "source": [
        "_6. Resto da divisão_"
      ]
    },
    {
      "cell_type": "code",
      "execution_count": 10,
      "metadata": {
        "id": "qjR6N0x1qYu1"
      },
      "outputs": [
        {
          "data": {
            "text/plain": [
              "1"
            ]
          },
          "execution_count": 10,
          "metadata": {},
          "output_type": "execute_result"
        }
      ],
      "source": [
        "4 % 3"
      ]
    },
    {
      "cell_type": "markdown",
      "metadata": {
        "id": "Gyw141TurJCy"
      },
      "source": [
        "_7. Divisãode chão_"
      ]
    },
    {
      "cell_type": "code",
      "execution_count": 11,
      "metadata": {
        "id": "daJKsAFArgE5"
      },
      "outputs": [
        {
          "data": {
            "text/plain": [
              "0"
            ]
          },
          "execution_count": 11,
          "metadata": {},
          "output_type": "execute_result"
        }
      ],
      "source": [
        "3 // 4"
      ]
    },
    {
      "cell_type": "markdown",
      "metadata": {
        "id": "_JeEqOQ7ruDJ"
      },
      "source": [
        "- ##  Ordem de precedência\n",
        "    Parênteses\n",
        "Expoentes - > Multiplicação e divisão (da esquerda para a direita) - >  Adição e subtração (da esquerda para a direita)"
      ]
    },
    {
      "cell_type": "code",
      "execution_count": 12,
      "metadata": {
        "colab": {
          "base_uri": "https://localhost:8080/"
        },
        "id": "jSlfcu6isoRA",
        "outputId": "ff70add8-4463-44f4-9307-bf688e1a859c"
      },
      "outputs": [
        {
          "data": {
            "text/plain": [
              "11.0"
            ]
          },
          "execution_count": 12,
          "metadata": {},
          "output_type": "execute_result"
        }
      ],
      "source": [
        "6 + 5 /(4 - 3)**2"
      ]
    },
    {
      "cell_type": "code",
      "execution_count": 11,
      "metadata": {
        "colab": {
          "base_uri": "https://localhost:8080/"
        },
        "id": "1YWKwRs3tKu7",
        "outputId": "efd539a9-d6a1-4568-c7f7-4adadfc7f9e8"
      },
      "outputs": [
        {
          "data": {
            "text/plain": [
              "17.25"
            ]
          },
          "execution_count": 11,
          "metadata": {},
          "output_type": "execute_result"
        }
      ],
      "source": [
        "6 + 5 /4 * (- 3) **2"
      ]
    }
  ],
  "metadata": {
    "colab": {
      "authorship_tag": "ABX9TyOZtn1I2GFrBElmzu+MaIzT",
      "include_colab_link": true,
      "provenance": []
    },
    "kernelspec": {
      "display_name": "Python 3",
      "name": "python3"
    },
    "language_info": {
      "codemirror_mode": {
        "name": "ipython",
        "version": 3
      },
      "file_extension": ".py",
      "mimetype": "text/x-python",
      "name": "python",
      "nbconvert_exporter": "python",
      "pygments_lexer": "ipython3",
      "version": "3.13.2"
    }
  },
  "nbformat": 4,
  "nbformat_minor": 0
}
